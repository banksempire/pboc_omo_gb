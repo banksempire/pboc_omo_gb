{
 "cells": [
  {
   "cell_type": "code",
   "execution_count": null,
   "metadata": {},
   "outputs": [],
   "source": [
    "from datetime import datetime\n",
    "\n",
    "from bs4 import BeautifulSoup as bs\n",
    "from selenium import webdriver\n"
   ]
  },
  {
   "cell_type": "code",
   "execution_count": null,
   "metadata": {},
   "outputs": [],
   "source": [
    "def gen_gb_url(maxpage=101):\n",
    "    list_url = 'http://www.pbc.gov.cn/zhengcehuobisi/125207/125213/125431/125475/17081/index{n}.html'\n",
    "    driver = webdriver.Chrome()\n",
    "    for i in  range(1,maxpage+1):\n",
    "        item_count = 0\n",
    "        while item_count == 0:\n",
    "            driver.get(list_url.format(n=i))\n",
    "            td_tags = bs(driver.page_source).find_all('td',height='22')\n",
    "            item_count = len(td_tags)\n",
    "        for tag in td_tags:\n",
    "            yield 'http://www.pbc.gov.cn'+tag.a.get('href'), tag.span.text\n",
    "\n",
    "def gen_html(mindate=datetime(2016,2,18)):\n",
    "    driver = webdriver.Chrome()\n",
    "    for url, date in gen_gb_url():\n",
    "        driver.get(url)\n",
    "        if mindate <= datetime.strptime(date, '%Y-%m-%d'):\n",
    "            yield driver.page_source, date\n",
    "        else:\n",
    "            break"
   ]
  },
  {
   "cell_type": "code",
   "execution_count": null,
   "metadata": {},
   "outputs": [],
   "source": [
    "for html, date in gen_html():\n",
    "    filepath = 'html\\\\{d}.html'.format(d=date)\n",
    "    with open(filepath,'w',encoding='utf-8') as file:\n",
    "        file.write(html)\n"
   ]
  }
 ],
 "metadata": {
  "kernelspec": {
   "display_name": "Python [conda env:quant]",
   "language": "python",
   "name": "conda-env-quant-py"
  },
  "language_info": {
   "codemirror_mode": {
    "name": "ipython",
    "version": 3
   },
   "file_extension": ".py",
   "mimetype": "text/x-python",
   "name": "python",
   "nbconvert_exporter": "python",
   "pygments_lexer": "ipython3",
   "version": "3.7.4"
  }
 },
 "nbformat": 4,
 "nbformat_minor": 4
}
